{
 "cells": [
  {
   "cell_type": "markdown",
   "metadata": {},
   "source": [
    "# Visualisation "
   ]
  },
  {
   "cell_type": "markdown",
   "metadata": {},
   "source": [
    "In this activity we will be working on the visualisation of weather data. \n",
    "\n",
    "### How does this notebook work?\n",
    "\n",
    "Run the cells with code written on them. To do this, you can select them and press Shift + Enter or press the \"Play\" button on the left side of the cell (if you do not see this, hover with the mouse on the cell and it should appear). Remember that all cells need to be run in order, even those in which you did not need to write any code. If you think you might have skipped one, on the left side of the cell you will find the line number, which corresponds to the order in which you have ran the cells. Keep in mind that if you run a cell and it gets numbered as 4, if you run the same cell immediately after it will be renumbered to 5.\n",
    "\n",
    "Looking at the code you will notice some parts are incomplete and have '\\_\\_' written instead. This means that you need to complete that part of the code. In some other parts, you will need to write your own code. This will be specified.\n",
    "\n",
    "You will also find hyperlinks to documentation on different functions that we will use. It is recommended to look at them to familiarise yourself with what you are doing and how they work.\n",
    "\n",
    "There are also questions to be completed in text cells. Click twice on them to start editing them or select them and press Enter, and press Shift+Enter when you are finished to go back to reading mode. The questions can be answered in one or two sentences in general."
   ]
  },
  {
   "cell_type": "code",
   "execution_count": null,
   "metadata": {},
   "outputs": [],
   "source": [
    "import numpy \n",
    "import os\n",
    "import matplotlib.pyplot \n",
    "import matplotlib.patches \n",
    "import math\n",
    "import seaborn \n",
    "import pandas \n",
    "from collections import Counter\n",
    "#Make sure the helper_functions.py file is in the same folder as this notebook\n",
    "from helper_functions import get_vgs_proportion\n"
   ]
  },
  {
   "cell_type": "code",
   "execution_count": null,
   "metadata": {},
   "outputs": [],
   "source": [
    "#Get the path to the files we will be using.\n",
    "path_weather = os.path.join(os.getcwd(), 'datasets', 'weather_simple.csv')\n",
    "#Load the data into the countries_info variable. This results in a DataFrame object.\n",
    "weather = pandas.read_csv(path_weather, delimiter = ';')"
   ]
  },
  {
   "cell_type": "code",
   "execution_count": null,
   "metadata": {},
   "outputs": [],
   "source": [
    "#Looking at part of the data we will need \n",
    "weather[:5]"
   ]
  },
  {
   "cell_type": "markdown",
   "metadata": {},
   "source": [
    "We can use the describe() function now to get an idea of the composition of our dataset"
   ]
  },
  {
   "cell_type": "code",
   "execution_count": null,
   "metadata": {},
   "outputs": [],
   "source": [
    "weather.describe(include='all')"
   ]
  },
  {
   "cell_type": "markdown",
   "metadata": {},
   "source": [
    "From this, we now know that there are 31 days in our dataset (the count of the 'date' column is 31). We also know that it covers the rain, minimum temperature, maximum temperature and the wind of each of the days."
   ]
  },
  {
   "cell_type": "markdown",
   "metadata": {},
   "source": [
    "## Activity 1: Using the right chart\n",
    "\n",
    "Here you are given selections of the dataset that we have loaded. Your job is to find the right plot to use for each of them and represent them with the right legend. Each cell will explain the data you need to plot. Remember to substitute the appropriate names in the code. We will use the [pyplot](https://matplotlib.org/3.1.1/api/pyplot_summary.html) library, which allows us to choose from a range of plots."
   ]
  },
  {
   "cell_type": "markdown",
   "metadata": {},
   "source": [
    "***Example:***\n",
    "\n",
    "We will now plot the minimum temperature. To do this, we first extract the min_temp column from our data. We will then check the type of data we are looking at and consider which plot would be best to represent it.\n"
   ]
  },
  {
   "cell_type": "code",
   "execution_count": null,
   "metadata": {},
   "outputs": [],
   "source": [
    "#Extract the minimum temperature data from the weather data\n",
    "min_temp = weather['min_temperature']\n",
    "print(\"The data type is: \",numpy.dtype(min_temp))"
   ]
  },
  {
   "cell_type": "markdown",
   "metadata": {},
   "source": [
    "We now have the minimum temperature data and know that it contains numerical values. We need to decide what type of plot we need, keeping in mind that the temperature is a continuous kind of data. We need to choose between a bar plot and a line plot. As it is continuous, our best choice is the line plot. \n",
    "\n",
    "To have the most control over the plot, we will be using [matplotlib's subplots](https://matplotlib.org/api/_as_gen/matplotlib.pyplot.subplot.html). This will allow us to easily access the labels of different parts of the graph.\n"
   ]
  },
  {
   "cell_type": "code",
   "execution_count": null,
   "metadata": {},
   "outputs": [],
   "source": [
    "#Get the figure for the plot and the axis objects to have easy access to all plot data.\n",
    "fig, ax = matplotlib.pyplot.subplots()\n",
    "\n",
    "#Create the plot that we will visualise. A line plot is the default for the function plot()\n",
    "plot = ax.plot(min_temp, label = \"Minimum temperature (ºC)\")\n",
    "\n",
    "#Set the labels of the axis\n",
    "ax.set_ylabel(\"ºC\")\n",
    "ax.set_xlabel(\"Day\")\n",
    "\n",
    "#Tell the program that you want the legend to be shown\n",
    "matplotlib.pyplot.legend()\n",
    "\n",
    "#Show the plot we have made\n",
    "matplotlib.pyplot.show()"
   ]
  },
  {
   "cell_type": "markdown",
   "metadata": {},
   "source": [
    "Now we will represent the maximum temperature. As before, we will first extract the necessary data and check the type."
   ]
  },
  {
   "cell_type": "code",
   "execution_count": null,
   "metadata": {},
   "outputs": [],
   "source": [
    "max_temp = weather['max_temperature']\n",
    "print(\"The data type is: \",numpy.dtype(min_temp))"
   ]
  },
  {
   "cell_type": "markdown",
   "metadata": {},
   "source": [
    "***What kind of plot do you think would be more suitable? Line or bar plot?***\n"
   ]
  },
  {
   "cell_type": "markdown",
   "metadata": {},
   "source": [
    "Fill in the legend with the correct labels"
   ]
  },
  {
   "cell_type": "code",
   "execution_count": null,
   "metadata": {},
   "outputs": [],
   "source": [
    "#Get the figure for the plot and the axis objects to have easy access to all plot data.\n",
    "fig, ax = matplotlib.pyplot.subplots()\n",
    "\n",
    "#Create the plot that we will visualise. A line plot is the default for the function plot()\n",
    "plot = ax.plot(max_temp, label = \"__\")\n",
    "\n",
    "#Set the labels of the axis\n",
    "ax.set_ylabel(\"__\")\n",
    "ax.set_xlabel(\"__\")\n",
    "\n",
    "#Tell the program that you want the legend to be shown\n",
    "matplotlib.pyplot.legend()\n",
    "\n",
    "#Show the plot we have made\n",
    "matplotlib.pyplot.show()"
   ]
  },
  {
   "cell_type": "markdown",
   "metadata": {},
   "source": [
    "We will now represent the wind speed. As always, we first extract the data we need."
   ]
  },
  {
   "cell_type": "code",
   "execution_count": null,
   "metadata": {},
   "outputs": [],
   "source": [
    "wind = weather['wind(mph)']\n",
    "print(\"The data type is: \",numpy.dtype(min_temp))"
   ]
  },
  {
   "cell_type": "markdown",
   "metadata": {},
   "source": [
    "***What kind of plot do you think would be more suitable? Bar or line plot?***\n"
   ]
  },
  {
   "cell_type": "code",
   "execution_count": null,
   "metadata": {},
   "outputs": [],
   "source": [
    "#Get the figure for the plot and the axis objects to have easy access to all plot data.\n",
    "fig, ax = matplotlib.pyplot.subplots()\n",
    "\n",
    "#Create the plot that we will visualise. A line plot is the default for the function plot()\n",
    "plot = ax.plot(wind, label = \"__\")\n",
    "\n",
    "#Set the labels of the axis\n",
    "ax.set_ylabel(\"__\")\n",
    "ax.set_xlabel(\"__\")\n",
    "\n",
    "#Tell the program that you want the legend to be shown\n",
    "matplotlib.pyplot.legend()\n",
    "\n",
    "#Show the plot we have made\n",
    "matplotlib.pyplot.show()"
   ]
  },
  {
   "cell_type": "markdown",
   "metadata": {},
   "source": [
    "Now we will represent the number of each kind of day (cloudy, sunny or rainy) along the month. First we will count them using a [Counter](https://docs.python.org/3/library/collections.html#collections.Counter). We will then pass this information to a DataFrame, just as before, and check the type of the data."
   ]
  },
  {
   "cell_type": "code",
   "execution_count": null,
   "metadata": {},
   "outputs": [],
   "source": [
    "#Count the number of kind of days (cloudy, sunny, rainy)\n",
    "kind_days = Counter(weather['weather']) #Counts how many days of each kind there are\n",
    "\n",
    "#Put the information in a table\n",
    "num_kind_days = pandas.DataFrame.from_dict(kind_days, orient='index')\n",
    "print(\"The type is: \", numpy.dtype(num_kind_days[0]))"
   ]
  },
  {
   "cell_type": "markdown",
   "metadata": {},
   "source": [
    "***What kind of plot do you think would be more suitable? Bar or line plot?***\n",
    "\n",
    "These values make reference to a quantity and are not continuous, so a bar plot is the best choice."
   ]
  },
  {
   "cell_type": "code",
   "execution_count": null,
   "metadata": {},
   "outputs": [],
   "source": [
    "#Get the figure for the plot and the axis objects to have easy access to all plot data.\n",
    "fig, ax = matplotlib.pyplot.subplots()\n",
    "\n",
    "#Create the plot that we will visualise. A line plot is the default for the function plot()\n",
    "plot = matplotlib.pyplot.bar(x=num_kind_days.index, height=num_kind_days[0], label=\"__\")\n",
    "\n",
    "#Set the labels of the axis\n",
    "ax.set_ylabel(\"__\")\n",
    "ax.set_xlabel(\"__\")\n",
    "\n",
    "#Tell the program that you want the legend to be shown\n",
    "matplotlib.pyplot.legend()\n",
    "\n",
    "#Show the plot we have made\n",
    "matplotlib.pyplot.show()"
   ]
  },
  {
   "cell_type": "markdown",
   "metadata": {},
   "source": [
    "Finally, we will represent the rain. Again, we first extract the necessary data."
   ]
  },
  {
   "cell_type": "code",
   "execution_count": null,
   "metadata": {},
   "outputs": [],
   "source": [
    "rain = weather['rain(mm)']"
   ]
  },
  {
   "cell_type": "markdown",
   "metadata": {},
   "source": [
    "***What kind of plot do you think would be more suitable? Bar or line plot? Keep in mind that we are measuring the ammount of rain that has fallen per unit of area***\n",
    "\n",
    "This measures the ammount of rain that has fallen in a unit of area, so the best option is to use a bar plot"
   ]
  },
  {
   "cell_type": "code",
   "execution_count": null,
   "metadata": {},
   "outputs": [],
   "source": [
    "#Get the figure for the plot and the axis objects to have easy access to all plot data.\n",
    "fig, ax = matplotlib.pyplot.subplots()\n",
    "\n",
    "#Create the plot that we will visualise. A line plot is the default for the function plot()\n",
    "plot = matplotlib.pyplot.bar(x=range(31), height=rain, label=\"__\")\n",
    "\n",
    "#Set the labels of the axis\n",
    "ax.set_ylabel(\"__\")\n",
    "ax.set_xlabel(\"__\")\n",
    "\n",
    "#Tell the program that you want the legend to be shown\n",
    "matplotlib.pyplot.legend()\n",
    "\n",
    "#Show the plot we have made\n",
    "matplotlib.pyplot.show()"
   ]
  },
  {
   "cell_type": "markdown",
   "metadata": {},
   "source": [
    "## Activtity 2: Correcting plots"
   ]
  },
  {
   "cell_type": "markdown",
   "metadata": {},
   "source": [
    "Correct the following plots. Mistakes could be axis wrongly labeled, bad colour decision ([here](https://matplotlib.org/3.1.0/tutorials/colors/colormaps.html) you have a link to different colourmaps you can use, take a look at colourmaps like 'viridis'), not the right plot for the data and other mistakes."
   ]
  },
  {
   "cell_type": "code",
   "execution_count": null,
   "metadata": {},
   "outputs": [],
   "source": [
    "#Get the figure for the plot and the axis objects to have easy access to all plot data.\n",
    "fig, ax = matplotlib.pyplot.subplots()\n",
    "\n",
    "#Create the plot that we will visualise.\n",
    "plot1, = ax.plot(min_temp, label = \"Maximum temperature\", color = 'blue')\n",
    "plot2 = ax.plot(max_temp, label = \"Maximum temperature\", color = 'blue')\n",
    "\n",
    "#Set the labels of the axis and the title\n",
    "ax.set_ylabel(\"ºC\")\n",
    "ax.set_xlabel(\"Day\")\n",
    "matplotlib.pyplot.title(label=\"Maximum and minimum temperature over a month\")\n",
    "\n",
    "#Start all the y axis on 0\n",
    "ax.set_ylim(ymin=0)\n",
    "\n",
    "#Tell the program that you want the legend to be shown\n",
    "matplotlib.pyplot.legend()\n",
    "\n",
    "#Show the plot we have made\n",
    "matplotlib.pyplot.show()"
   ]
  },
  {
   "cell_type": "markdown",
   "metadata": {},
   "source": [
    "***Explain the error(s) you found:***\n"
   ]
  },
  {
   "cell_type": "code",
   "execution_count": null,
   "metadata": {},
   "outputs": [],
   "source": [
    "#Just changing the size of the plot so it is easier to read\n",
    "matplotlib.pyplot.rcParams[\"figure.figsize\"] = (10,5)\n",
    "\n",
    "#We need to change the weather values to numbers for them to have different colours\n",
    "weather_scatter =weather.replace(['Sunny', 'Cloudy', 'Rainy'],[0,1,2])\n",
    "weather_scatter.plot.scatter(x='date', y = 'max_temperature', c = 'weather', colormap = 'RdYlGn')\n",
    "\n",
    "#This is for representing the legend\n",
    "sunny_patch =  matplotlib.patches.Patch(color='red', label='Sunny')\n",
    "cloudy_patch=  matplotlib.patches.Patch(color='yellow', label='Cloudy')\n",
    "rainy_patch =  matplotlib.patches.Patch(color='green', label='Rainy')\n",
    "matplotlib.pyplot.legend(handles=[sunny_patch, cloudy_patch,rainy_patch])\n",
    "\n",
    "matplotlib.pyplot.title('Kind of day and maximum temperatur of each day')\n",
    "matplotlib.pyplot.xlabel('Day')\n",
    "matplotlib.pyplot.ylabel('Maximum temperature')\n",
    "matplotlib.pyplot.show()"
   ]
  },
  {
   "cell_type": "markdown",
   "metadata": {},
   "source": [
    "***Explain the error(s) you found:***"
   ]
  },
  {
   "cell_type": "code",
   "execution_count": null,
   "metadata": {},
   "outputs": [],
   "source": [
    "#Get the figure for the plot and the axis objects to have easy access to all plot data.\n",
    "fig, ax = matplotlib.pyplot.subplots()\n",
    "\n",
    "#Create the plot that we will visualise. A line plot is the default for the function plot()\n",
    "plot = matplotlib.pyplot.plot(rain, label=\"Rain\")\n",
    "\n",
    "#Set the labels of the axis\n",
    "ax.set_ylabel(\"Amount of rain (mm)\")\n",
    "ax.set_xlabel(\"Day\")\n",
    "\n",
    "#Tell the program that you want the legend to be shown\n",
    "matplotlib.pyplot.legend()\n",
    "\n",
    "#Show the plot we have made\n",
    "matplotlib.pyplot.show()"
   ]
  },
  {
   "cell_type": "markdown",
   "metadata": {},
   "source": [
    "***Explain the error(s) you found***\n",
    "\n"
   ]
  }
 ],
 "metadata": {
  "kernelspec": {
   "display_name": "Python 3",
   "language": "python",
   "name": "python3"
  },
  "language_info": {
   "codemirror_mode": {
    "name": "ipython",
    "version": 3
   },
   "file_extension": ".py",
   "mimetype": "text/x-python",
   "name": "python",
   "nbconvert_exporter": "python",
   "pygments_lexer": "ipython3",
   "version": "3.7.3"
  }
 },
 "nbformat": 4,
 "nbformat_minor": 4
}
