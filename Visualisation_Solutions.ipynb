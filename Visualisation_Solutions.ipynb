{
 "cells": [
  {
   "cell_type": "markdown",
   "metadata": {},
   "source": [
    "# Visualisation Solutions"
   ]
  },
  {
   "cell_type": "markdown",
   "metadata": {},
   "source": [
    "In this activity we will be working on the visualisation of data. Questions to be answered are in ***bold*** and should be answered in the same box unless specified. In the code, some parts need to be filled. This will be marked with __ or be empty spaces. Note that the code will not work if these are not changed to the correct values, so make sure that you change all of them."
   ]
  },
  {
   "cell_type": "code",
   "execution_count": 178,
   "metadata": {},
   "outputs": [],
   "source": [
    "import numpy as np\n",
    "import os\n",
    "import matplotlib.pyplot as plt\n",
    "import matplotlib.patches as mpatches\n",
    "import math\n",
    "import seaborn as sns\n",
    "import pandas as pd\n",
    "from collections import Counter\n",
    "#Make sure the helper_functions.py file is in the same folder as this notebook\n",
    "from helper_functions import get_vgs_proportion\n"
   ]
  },
  {
   "cell_type": "code",
   "execution_count": 2,
   "metadata": {},
   "outputs": [],
   "source": [
    "#Get the path to the files we will be using.\n",
    "path_weather = os.path.join(os.getcwd(), 'datasets', 'weather_simple.csv')\n",
    "path_videogames = os.path.join(os.getcwd(), 'datasets', 'vgsales.csv')\n",
    "#Load the data into the countries_info variable. This results in a DataFrame object.\n",
    "weather = pd.read_csv(path_weather, delimiter = ';')\n",
    "videogames = pd.read_csv(path_videogames, delimiter = ',')"
   ]
  },
  {
   "cell_type": "code",
   "execution_count": 3,
   "metadata": {},
   "outputs": [
    {
     "data": {
      "text/html": [
       "<div>\n",
       "<style scoped>\n",
       "    .dataframe tbody tr th:only-of-type {\n",
       "        vertical-align: middle;\n",
       "    }\n",
       "\n",
       "    .dataframe tbody tr th {\n",
       "        vertical-align: top;\n",
       "    }\n",
       "\n",
       "    .dataframe thead th {\n",
       "        text-align: right;\n",
       "    }\n",
       "</style>\n",
       "<table border=\"1\" class=\"dataframe\">\n",
       "  <thead>\n",
       "    <tr style=\"text-align: right;\">\n",
       "      <th></th>\n",
       "      <th>Date</th>\n",
       "      <th>Weather</th>\n",
       "      <th>Rain(mm)</th>\n",
       "      <th>Min_Temperature</th>\n",
       "      <th>Max_Temperature</th>\n",
       "    </tr>\n",
       "  </thead>\n",
       "  <tbody>\n",
       "    <tr>\n",
       "      <th>0</th>\n",
       "      <td>01/01/2019</td>\n",
       "      <td>Sunny</td>\n",
       "      <td>0</td>\n",
       "      <td>10.0</td>\n",
       "      <td>22.0</td>\n",
       "    </tr>\n",
       "    <tr>\n",
       "      <th>1</th>\n",
       "      <td>02/01/2019</td>\n",
       "      <td>Sunny</td>\n",
       "      <td>0</td>\n",
       "      <td>11.5</td>\n",
       "      <td>23.5</td>\n",
       "    </tr>\n",
       "    <tr>\n",
       "      <th>2</th>\n",
       "      <td>03/01/2019</td>\n",
       "      <td>Cloudy</td>\n",
       "      <td>0</td>\n",
       "      <td>9.0</td>\n",
       "      <td>24.0</td>\n",
       "    </tr>\n",
       "    <tr>\n",
       "      <th>3</th>\n",
       "      <td>04/01/2019</td>\n",
       "      <td>Cloudy</td>\n",
       "      <td>0</td>\n",
       "      <td>10.0</td>\n",
       "      <td>22.5</td>\n",
       "    </tr>\n",
       "    <tr>\n",
       "      <th>4</th>\n",
       "      <td>05/01/2019</td>\n",
       "      <td>Rainy</td>\n",
       "      <td>0</td>\n",
       "      <td>12.0</td>\n",
       "      <td>21.0</td>\n",
       "    </tr>\n",
       "    <tr>\n",
       "      <th>5</th>\n",
       "      <td>06/01/2019</td>\n",
       "      <td>Rainy</td>\n",
       "      <td>30</td>\n",
       "      <td>10.5</td>\n",
       "      <td>23.0</td>\n",
       "    </tr>\n",
       "    <tr>\n",
       "      <th>6</th>\n",
       "      <td>07/01/2019</td>\n",
       "      <td>Cloudy</td>\n",
       "      <td>0</td>\n",
       "      <td>13.0</td>\n",
       "      <td>24.0</td>\n",
       "    </tr>\n",
       "    <tr>\n",
       "      <th>7</th>\n",
       "      <td>08/01/2019</td>\n",
       "      <td>Cloudy</td>\n",
       "      <td>0</td>\n",
       "      <td>11.0</td>\n",
       "      <td>22.0</td>\n",
       "    </tr>\n",
       "    <tr>\n",
       "      <th>8</th>\n",
       "      <td>09/01/2019</td>\n",
       "      <td>Rainy</td>\n",
       "      <td>30</td>\n",
       "      <td>10.5</td>\n",
       "      <td>23.0</td>\n",
       "    </tr>\n",
       "    <tr>\n",
       "      <th>9</th>\n",
       "      <td>10/01/2019</td>\n",
       "      <td>Rainy</td>\n",
       "      <td>35</td>\n",
       "      <td>12.0</td>\n",
       "      <td>22.5</td>\n",
       "    </tr>\n",
       "    <tr>\n",
       "      <th>10</th>\n",
       "      <td>11/01/2019</td>\n",
       "      <td>Rainy</td>\n",
       "      <td>40</td>\n",
       "      <td>10.0</td>\n",
       "      <td>21.5</td>\n",
       "    </tr>\n",
       "    <tr>\n",
       "      <th>11</th>\n",
       "      <td>12/01/2019</td>\n",
       "      <td>Rainy</td>\n",
       "      <td>100</td>\n",
       "      <td>11.0</td>\n",
       "      <td>22.0</td>\n",
       "    </tr>\n",
       "    <tr>\n",
       "      <th>12</th>\n",
       "      <td>13/01/2019</td>\n",
       "      <td>Sunny</td>\n",
       "      <td>0</td>\n",
       "      <td>9.5</td>\n",
       "      <td>21.5</td>\n",
       "    </tr>\n",
       "    <tr>\n",
       "      <th>13</th>\n",
       "      <td>14/01/2019</td>\n",
       "      <td>Sunny</td>\n",
       "      <td>0</td>\n",
       "      <td>11.0</td>\n",
       "      <td>20.5</td>\n",
       "    </tr>\n",
       "    <tr>\n",
       "      <th>14</th>\n",
       "      <td>15/01/2019</td>\n",
       "      <td>Sunny</td>\n",
       "      <td>0</td>\n",
       "      <td>8.0</td>\n",
       "      <td>23.0</td>\n",
       "    </tr>\n",
       "    <tr>\n",
       "      <th>15</th>\n",
       "      <td>16/01/2019</td>\n",
       "      <td>Cloudy</td>\n",
       "      <td>0</td>\n",
       "      <td>10.0</td>\n",
       "      <td>25.0</td>\n",
       "    </tr>\n",
       "    <tr>\n",
       "      <th>16</th>\n",
       "      <td>17/01/2019</td>\n",
       "      <td>Rainy</td>\n",
       "      <td>35</td>\n",
       "      <td>9.5</td>\n",
       "      <td>22.0</td>\n",
       "    </tr>\n",
       "    <tr>\n",
       "      <th>17</th>\n",
       "      <td>18/01/2019</td>\n",
       "      <td>Rainy</td>\n",
       "      <td>39</td>\n",
       "      <td>10.0</td>\n",
       "      <td>23.0</td>\n",
       "    </tr>\n",
       "    <tr>\n",
       "      <th>18</th>\n",
       "      <td>19/01/2019</td>\n",
       "      <td>Sunny</td>\n",
       "      <td>0</td>\n",
       "      <td>11.0</td>\n",
       "      <td>21.5</td>\n",
       "    </tr>\n",
       "    <tr>\n",
       "      <th>19</th>\n",
       "      <td>20/01/2019</td>\n",
       "      <td>Rainy</td>\n",
       "      <td>0</td>\n",
       "      <td>10.0</td>\n",
       "      <td>22.0</td>\n",
       "    </tr>\n",
       "    <tr>\n",
       "      <th>20</th>\n",
       "      <td>21/01/2019</td>\n",
       "      <td>Rainy</td>\n",
       "      <td>20</td>\n",
       "      <td>8.5</td>\n",
       "      <td>23.0</td>\n",
       "    </tr>\n",
       "    <tr>\n",
       "      <th>21</th>\n",
       "      <td>22/01/2019</td>\n",
       "      <td>Sunny</td>\n",
       "      <td>0</td>\n",
       "      <td>11.0</td>\n",
       "      <td>21.0</td>\n",
       "    </tr>\n",
       "    <tr>\n",
       "      <th>22</th>\n",
       "      <td>23/01/2019</td>\n",
       "      <td>Sunny</td>\n",
       "      <td>0</td>\n",
       "      <td>10.0</td>\n",
       "      <td>20.5</td>\n",
       "    </tr>\n",
       "    <tr>\n",
       "      <th>23</th>\n",
       "      <td>24/01/2019</td>\n",
       "      <td>Sunny</td>\n",
       "      <td>0</td>\n",
       "      <td>9.5</td>\n",
       "      <td>20.0</td>\n",
       "    </tr>\n",
       "    <tr>\n",
       "      <th>24</th>\n",
       "      <td>25/01/2019</td>\n",
       "      <td>Cloudy</td>\n",
       "      <td>0</td>\n",
       "      <td>10.0</td>\n",
       "      <td>23.5</td>\n",
       "    </tr>\n",
       "    <tr>\n",
       "      <th>25</th>\n",
       "      <td>26/01/2019</td>\n",
       "      <td>Cloudy</td>\n",
       "      <td>0</td>\n",
       "      <td>11.5</td>\n",
       "      <td>21.0</td>\n",
       "    </tr>\n",
       "    <tr>\n",
       "      <th>26</th>\n",
       "      <td>27/01/2019</td>\n",
       "      <td>Rainy</td>\n",
       "      <td>0</td>\n",
       "      <td>10.5</td>\n",
       "      <td>22.5</td>\n",
       "    </tr>\n",
       "    <tr>\n",
       "      <th>27</th>\n",
       "      <td>28/01/2019</td>\n",
       "      <td>Rainy</td>\n",
       "      <td>50</td>\n",
       "      <td>12.0</td>\n",
       "      <td>23.0</td>\n",
       "    </tr>\n",
       "    <tr>\n",
       "      <th>28</th>\n",
       "      <td>29/01/2019</td>\n",
       "      <td>Rainy</td>\n",
       "      <td>53</td>\n",
       "      <td>9.0</td>\n",
       "      <td>20.0</td>\n",
       "    </tr>\n",
       "    <tr>\n",
       "      <th>29</th>\n",
       "      <td>30/01/2019</td>\n",
       "      <td>Rainy</td>\n",
       "      <td>48</td>\n",
       "      <td>9.0</td>\n",
       "      <td>22.0</td>\n",
       "    </tr>\n",
       "    <tr>\n",
       "      <th>30</th>\n",
       "      <td>31/01/2019</td>\n",
       "      <td>Rainy</td>\n",
       "      <td>55</td>\n",
       "      <td>10.5</td>\n",
       "      <td>23.0</td>\n",
       "    </tr>\n",
       "  </tbody>\n",
       "</table>\n",
       "</div>"
      ],
      "text/plain": [
       "          Date Weather  Rain(mm)  Min_Temperature  Max_Temperature\n",
       "0   01/01/2019   Sunny         0             10.0             22.0\n",
       "1   02/01/2019   Sunny         0             11.5             23.5\n",
       "2   03/01/2019  Cloudy         0              9.0             24.0\n",
       "3   04/01/2019  Cloudy         0             10.0             22.5\n",
       "4   05/01/2019   Rainy         0             12.0             21.0\n",
       "5   06/01/2019   Rainy        30             10.5             23.0\n",
       "6   07/01/2019  Cloudy         0             13.0             24.0\n",
       "7   08/01/2019  Cloudy         0             11.0             22.0\n",
       "8   09/01/2019   Rainy        30             10.5             23.0\n",
       "9   10/01/2019   Rainy        35             12.0             22.5\n",
       "10  11/01/2019   Rainy        40             10.0             21.5\n",
       "11  12/01/2019   Rainy       100             11.0             22.0\n",
       "12  13/01/2019   Sunny         0              9.5             21.5\n",
       "13  14/01/2019   Sunny         0             11.0             20.5\n",
       "14  15/01/2019   Sunny         0              8.0             23.0\n",
       "15  16/01/2019  Cloudy         0             10.0             25.0\n",
       "16  17/01/2019   Rainy        35              9.5             22.0\n",
       "17  18/01/2019   Rainy        39             10.0             23.0\n",
       "18  19/01/2019   Sunny         0             11.0             21.5\n",
       "19  20/01/2019   Rainy         0             10.0             22.0\n",
       "20  21/01/2019   Rainy        20              8.5             23.0\n",
       "21  22/01/2019   Sunny         0             11.0             21.0\n",
       "22  23/01/2019   Sunny         0             10.0             20.5\n",
       "23  24/01/2019   Sunny         0              9.5             20.0\n",
       "24  25/01/2019  Cloudy         0             10.0             23.5\n",
       "25  26/01/2019  Cloudy         0             11.5             21.0\n",
       "26  27/01/2019   Rainy         0             10.5             22.5\n",
       "27  28/01/2019   Rainy        50             12.0             23.0\n",
       "28  29/01/2019   Rainy        53              9.0             20.0\n",
       "29  30/01/2019   Rainy        48              9.0             22.0\n",
       "30  31/01/2019   Rainy        55             10.5             23.0"
      ]
     },
     "execution_count": 3,
     "metadata": {},
     "output_type": "execute_result"
    }
   ],
   "source": [
    "#Looking at the data we will need \n",
    "weather"
   ]
  },
  {
   "cell_type": "code",
   "execution_count": 4,
   "metadata": {
    "scrolled": true
   },
   "outputs": [
    {
     "data": {
      "text/html": [
       "<div>\n",
       "<style scoped>\n",
       "    .dataframe tbody tr th:only-of-type {\n",
       "        vertical-align: middle;\n",
       "    }\n",
       "\n",
       "    .dataframe tbody tr th {\n",
       "        vertical-align: top;\n",
       "    }\n",
       "\n",
       "    .dataframe thead th {\n",
       "        text-align: right;\n",
       "    }\n",
       "</style>\n",
       "<table border=\"1\" class=\"dataframe\">\n",
       "  <thead>\n",
       "    <tr style=\"text-align: right;\">\n",
       "      <th></th>\n",
       "      <th>Rank</th>\n",
       "      <th>Name</th>\n",
       "      <th>Platform</th>\n",
       "      <th>Year</th>\n",
       "      <th>Genre</th>\n",
       "      <th>Publisher</th>\n",
       "      <th>NA_Sales</th>\n",
       "      <th>EU_Sales</th>\n",
       "      <th>JP_Sales</th>\n",
       "      <th>Other_Sales</th>\n",
       "      <th>Global_Sales</th>\n",
       "    </tr>\n",
       "  </thead>\n",
       "  <tbody>\n",
       "    <tr>\n",
       "      <th>0</th>\n",
       "      <td>1</td>\n",
       "      <td>Wii Sports</td>\n",
       "      <td>Wii</td>\n",
       "      <td>2006.0</td>\n",
       "      <td>Sports</td>\n",
       "      <td>Nintendo</td>\n",
       "      <td>41.49</td>\n",
       "      <td>29.02</td>\n",
       "      <td>3.77</td>\n",
       "      <td>8.46</td>\n",
       "      <td>82.74</td>\n",
       "    </tr>\n",
       "    <tr>\n",
       "      <th>1</th>\n",
       "      <td>2</td>\n",
       "      <td>Super Mario Bros.</td>\n",
       "      <td>NES</td>\n",
       "      <td>1985.0</td>\n",
       "      <td>Platform</td>\n",
       "      <td>Nintendo</td>\n",
       "      <td>29.08</td>\n",
       "      <td>3.58</td>\n",
       "      <td>6.81</td>\n",
       "      <td>0.77</td>\n",
       "      <td>40.24</td>\n",
       "    </tr>\n",
       "    <tr>\n",
       "      <th>2</th>\n",
       "      <td>3</td>\n",
       "      <td>Mario Kart Wii</td>\n",
       "      <td>Wii</td>\n",
       "      <td>2008.0</td>\n",
       "      <td>Racing</td>\n",
       "      <td>Nintendo</td>\n",
       "      <td>15.85</td>\n",
       "      <td>12.88</td>\n",
       "      <td>3.79</td>\n",
       "      <td>3.31</td>\n",
       "      <td>35.82</td>\n",
       "    </tr>\n",
       "    <tr>\n",
       "      <th>3</th>\n",
       "      <td>4</td>\n",
       "      <td>Wii Sports Resort</td>\n",
       "      <td>Wii</td>\n",
       "      <td>2009.0</td>\n",
       "      <td>Sports</td>\n",
       "      <td>Nintendo</td>\n",
       "      <td>15.75</td>\n",
       "      <td>11.01</td>\n",
       "      <td>3.28</td>\n",
       "      <td>2.96</td>\n",
       "      <td>33.00</td>\n",
       "    </tr>\n",
       "    <tr>\n",
       "      <th>4</th>\n",
       "      <td>5</td>\n",
       "      <td>Pokemon Red/Pokemon Blue</td>\n",
       "      <td>GB</td>\n",
       "      <td>1996.0</td>\n",
       "      <td>Role-Playing</td>\n",
       "      <td>Nintendo</td>\n",
       "      <td>11.27</td>\n",
       "      <td>8.89</td>\n",
       "      <td>10.22</td>\n",
       "      <td>1.00</td>\n",
       "      <td>31.37</td>\n",
       "    </tr>\n",
       "    <tr>\n",
       "      <th>...</th>\n",
       "      <td>...</td>\n",
       "      <td>...</td>\n",
       "      <td>...</td>\n",
       "      <td>...</td>\n",
       "      <td>...</td>\n",
       "      <td>...</td>\n",
       "      <td>...</td>\n",
       "      <td>...</td>\n",
       "      <td>...</td>\n",
       "      <td>...</td>\n",
       "      <td>...</td>\n",
       "    </tr>\n",
       "    <tr>\n",
       "      <th>16593</th>\n",
       "      <td>16596</td>\n",
       "      <td>Woody Woodpecker in Crazy Castle 5</td>\n",
       "      <td>GBA</td>\n",
       "      <td>2002.0</td>\n",
       "      <td>Platform</td>\n",
       "      <td>Kemco</td>\n",
       "      <td>0.01</td>\n",
       "      <td>0.00</td>\n",
       "      <td>0.00</td>\n",
       "      <td>0.00</td>\n",
       "      <td>0.01</td>\n",
       "    </tr>\n",
       "    <tr>\n",
       "      <th>16594</th>\n",
       "      <td>16597</td>\n",
       "      <td>Men in Black II: Alien Escape</td>\n",
       "      <td>GC</td>\n",
       "      <td>2003.0</td>\n",
       "      <td>Shooter</td>\n",
       "      <td>Infogrames</td>\n",
       "      <td>0.01</td>\n",
       "      <td>0.00</td>\n",
       "      <td>0.00</td>\n",
       "      <td>0.00</td>\n",
       "      <td>0.01</td>\n",
       "    </tr>\n",
       "    <tr>\n",
       "      <th>16595</th>\n",
       "      <td>16598</td>\n",
       "      <td>SCORE International Baja 1000: The Official Game</td>\n",
       "      <td>PS2</td>\n",
       "      <td>2008.0</td>\n",
       "      <td>Racing</td>\n",
       "      <td>Activision</td>\n",
       "      <td>0.00</td>\n",
       "      <td>0.00</td>\n",
       "      <td>0.00</td>\n",
       "      <td>0.00</td>\n",
       "      <td>0.01</td>\n",
       "    </tr>\n",
       "    <tr>\n",
       "      <th>16596</th>\n",
       "      <td>16599</td>\n",
       "      <td>Know How 2</td>\n",
       "      <td>DS</td>\n",
       "      <td>2010.0</td>\n",
       "      <td>Puzzle</td>\n",
       "      <td>7G//AMES</td>\n",
       "      <td>0.00</td>\n",
       "      <td>0.01</td>\n",
       "      <td>0.00</td>\n",
       "      <td>0.00</td>\n",
       "      <td>0.01</td>\n",
       "    </tr>\n",
       "    <tr>\n",
       "      <th>16597</th>\n",
       "      <td>16600</td>\n",
       "      <td>Spirits &amp; Spells</td>\n",
       "      <td>GBA</td>\n",
       "      <td>2003.0</td>\n",
       "      <td>Platform</td>\n",
       "      <td>Wanadoo</td>\n",
       "      <td>0.01</td>\n",
       "      <td>0.00</td>\n",
       "      <td>0.00</td>\n",
       "      <td>0.00</td>\n",
       "      <td>0.01</td>\n",
       "    </tr>\n",
       "  </tbody>\n",
       "</table>\n",
       "<p>16598 rows × 11 columns</p>\n",
       "</div>"
      ],
      "text/plain": [
       "        Rank                                              Name Platform  \\\n",
       "0          1                                        Wii Sports      Wii   \n",
       "1          2                                 Super Mario Bros.      NES   \n",
       "2          3                                    Mario Kart Wii      Wii   \n",
       "3          4                                 Wii Sports Resort      Wii   \n",
       "4          5                          Pokemon Red/Pokemon Blue       GB   \n",
       "...      ...                                               ...      ...   \n",
       "16593  16596                Woody Woodpecker in Crazy Castle 5      GBA   \n",
       "16594  16597                     Men in Black II: Alien Escape       GC   \n",
       "16595  16598  SCORE International Baja 1000: The Official Game      PS2   \n",
       "16596  16599                                        Know How 2       DS   \n",
       "16597  16600                                  Spirits & Spells      GBA   \n",
       "\n",
       "         Year         Genre   Publisher  NA_Sales  EU_Sales  JP_Sales  \\\n",
       "0      2006.0        Sports    Nintendo     41.49     29.02      3.77   \n",
       "1      1985.0      Platform    Nintendo     29.08      3.58      6.81   \n",
       "2      2008.0        Racing    Nintendo     15.85     12.88      3.79   \n",
       "3      2009.0        Sports    Nintendo     15.75     11.01      3.28   \n",
       "4      1996.0  Role-Playing    Nintendo     11.27      8.89     10.22   \n",
       "...       ...           ...         ...       ...       ...       ...   \n",
       "16593  2002.0      Platform       Kemco      0.01      0.00      0.00   \n",
       "16594  2003.0       Shooter  Infogrames      0.01      0.00      0.00   \n",
       "16595  2008.0        Racing  Activision      0.00      0.00      0.00   \n",
       "16596  2010.0        Puzzle    7G//AMES      0.00      0.01      0.00   \n",
       "16597  2003.0      Platform     Wanadoo      0.01      0.00      0.00   \n",
       "\n",
       "       Other_Sales  Global_Sales  \n",
       "0             8.46         82.74  \n",
       "1             0.77         40.24  \n",
       "2             3.31         35.82  \n",
       "3             2.96         33.00  \n",
       "4             1.00         31.37  \n",
       "...            ...           ...  \n",
       "16593         0.00          0.01  \n",
       "16594         0.00          0.01  \n",
       "16595         0.00          0.01  \n",
       "16596         0.00          0.01  \n",
       "16597         0.00          0.01  \n",
       "\n",
       "[16598 rows x 11 columns]"
      ]
     },
     "execution_count": 4,
     "metadata": {},
     "output_type": "execute_result"
    }
   ],
   "source": [
    "#Look at the other dataset\n",
    "videogames"
   ]
  },
  {
   "cell_type": "markdown",
   "metadata": {},
   "source": [
    "## Activity 1: Using the right chart\n",
    "\n",
    "Here you are given selections of the two datasets that we have loaded. Your job is to find the right plot to use for each of them and represent them. The following cell contains code that you can copy and paste for representing the data. Remember to substitute the appropriate variable names."
   ]
  },
  {
   "cell_type": "markdown",
   "metadata": {},
   "source": [
    "Code for drawing a pie chart. Copy, paste, and substitute with your own data\n",
    "```\n",
    "data.plot.pie(subplots=True)\n",
    "        ```\n",
    "Code for drawing a line chart. Copy, paste, and substitute with your own data\n",
    "```\n",
    "data.plot.line\n",
    "plt.legend(['_'])\n",
    "```\n",
    "Code for drawing a bar chart. Copy, paste, and substitute with your own data\n",
    "```\n",
    "data.plot.bar()\n",
    "plt.legend(['_'])\n",
    "```\n",
    "Code for stacked 100% area chart\n",
    "```\n",
    "data.plot.area()\n",
    "```"
   ]
  },
  {
   "cell_type": "code",
   "execution_count": 5,
   "metadata": {},
   "outputs": [],
   "source": [
    "#Let's get all the data that we will represent now\n",
    "\n",
    "#Number of kind of days (cloudy, sunny, rainy)\n",
    "kind_days = Counter(weather['Weather']) #Counts how many days of each kind there are\n",
    "num_kind_days = pd.DataFrame.from_dict(kind_days, orient='index')\n",
    "\n",
    "#Maximum temperatures\n",
    "max_temp = weather['Max_Temperature']\n",
    "\n",
    "#Minimum temperatures\n",
    "min_temp = weather['Min_Temperature']\n",
    "\n",
    "#Amount of rain\n",
    "rain = weather['Rain(mm)']\n",
    "\n",
    "#Proportion of sold videogames for each Nintendo platform per year\n",
    "#There is some processing of the data to get the necessary dataset. You can look at it\n",
    "#in the helper_functions.py file\n",
    "prop_videogames = get_vgs_proportion() \n"
   ]
  },
  {
   "cell_type": "code",
   "execution_count": 157,
   "metadata": {},
   "outputs": [
    {
     "data": {
      "text/plain": [
       "<matplotlib.legend.Legend at 0x1a2479d0ba8>"
      ]
     },
     "execution_count": 157,
     "metadata": {},
     "output_type": "execute_result"
    },
    {
     "data": {
      "image/png": "[encoded data removed]",
      "text/plain": [
       "<Figure size 432x288 with 1 Axes>"
      ]
     },
     "metadata": {
      "needs_background": "light"
     },
     "output_type": "display_data"
    }
   ],
   "source": [
    "#Your chart 1\n",
    "max_temp.plot.line()\n",
    "plt.legend(['ºC'])"
   ]
  },
  {
   "cell_type": "markdown",
   "metadata": {},
   "source": [
    "***Explain your choice:***\n",
    "\n",
    "Temperature is continuous data, so a line chart is the best option to represent it"
   ]
  },
  {
   "cell_type": "code",
   "execution_count": 158,
   "metadata": {},
   "outputs": [
    {
     "data": {
      "text/plain": [
       "<matplotlib.legend.Legend at 0x1a2479d9668>"
      ]
     },
     "execution_count": 158,
     "metadata": {},
     "output_type": "execute_result"
    },
    {
     "data": {
      "image/png": "[encoded data removed]",
      "text/plain": [
       "<Figure size 432x288 with 1 Axes>"
      ]
     },
     "metadata": {
      "needs_background": "light"
     },
     "output_type": "display_data"
    }
   ],
   "source": [
    "#Your chart 2\n",
    "min_temp.plot.line()\n",
    "plt.legend(['ºC'])"
   ]
  },
  {
   "cell_type": "markdown",
   "metadata": {},
   "source": [
    "***Explain your choice:***\n",
    "\n",
    "Same answer as before"
   ]
  },
  {
   "cell_type": "code",
   "execution_count": 147,
   "metadata": {},
   "outputs": [
    {
     "data": {
      "text/plain": [
       "array([<matplotlib.axes._subplots.AxesSubplot object at 0x000001A2475BCF98>],\n",
       "      dtype=object)"
      ]
     },
     "execution_count": 147,
     "metadata": {},
     "output_type": "execute_result"
    },
    {
     "data": {
      "image/png": "[encoded data removed]",
      "text/plain": [
       "<Figure size 432x288 with 1 Axes>"
      ]
     },
     "metadata": {},
     "output_type": "display_data"
    }
   ],
   "source": [
    "#Your chart 3\n",
    "num_kind_days.plot.pie(subplots=True)"
   ]
  },
  {
   "cell_type": "markdown",
   "metadata": {},
   "source": [
    "***Explain your choice:***\n",
    "\n",
    "We are looking at the proportion over a month, so a pie chart gives us a visual representation of it."
   ]
  },
  {
   "cell_type": "code",
   "execution_count": 156,
   "metadata": {},
   "outputs": [
    {
     "data": {
      "text/plain": [
       "<matplotlib.axes._subplots.AxesSubplot at 0x1a2479871d0>"
      ]
     },
     "execution_count": 156,
     "metadata": {},
     "output_type": "execute_result"
    },
    {
     "data": {
      "image/png": "[encoded data removed]",
      "text/plain": [
       "<Figure size 432x288 with 1 Axes>"
      ]
     },
     "metadata": {
      "needs_background": "light"
     },
     "output_type": "display_data"
    }
   ],
   "source": [
    "#Your chart 4\n",
    "#print(prop_videogames)\n",
    "prop_videogames.plot.area()"
   ]
  },
  {
   "cell_type": "markdown",
   "metadata": {},
   "source": [
    "***Explain your choice:***\n",
    "\n",
    "We are looking at proportion over time, the proportion of each platform at each year and how that evolves over time. This plot gives us a visualisation of this."
   ]
  },
  {
   "cell_type": "code",
   "execution_count": 183,
   "metadata": {},
   "outputs": [
    {
     "data": {
      "text/plain": [
       "<matplotlib.legend.Legend at 0x1a249b3db00>"
      ]
     },
     "execution_count": 183,
     "metadata": {},
     "output_type": "execute_result"
    },
    {
     "data": {
      "image/png": "[encoded data removed]",
      "text/plain": [
       "<Figure size 432x288 with 1 Axes>"
      ]
     },
     "metadata": {
      "needs_background": "light"
     },
     "output_type": "display_data"
    }
   ],
   "source": [
    "#Your chart 5\n",
    "rain.plot.bar()\n",
    "plt.legend(['L/mm^2'])"
   ]
  },
  {
   "cell_type": "markdown",
   "metadata": {},
   "source": [
    "***Explain your choice:***\n",
    "\n",
    "The quantity of rain is not continuous, there is a different amount each day. Because of this, the best visualisation is with bars."
   ]
  },
  {
   "cell_type": "markdown",
   "metadata": {},
   "source": [
    "## Activtity 2: Correcting plots"
   ]
  },
  {
   "cell_type": "markdown",
   "metadata": {},
   "source": [
    "Correct the following plots. Mistakes could be axis wrongly labeled, bad colour decision ([here](https://matplotlib.org/3.1.0/tutorials/colors/colormaps.html) you have a link to different colormaps you can use), not the right plot for the data..."
   ]
  },
  {
   "cell_type": "code",
   "execution_count": 17,
   "metadata": {},
   "outputs": [
    {
     "data": {
      "text/plain": [
       "<matplotlib.legend.Legend at 0x1a2445a3550>"
      ]
     },
     "execution_count": 17,
     "metadata": {},
     "output_type": "execute_result"
    },
    {
     "data": {
      "image/png": "[encoded data removed]",
      "text/plain": [
       "<Figure size 432x288 with 1 Axes>"
      ]
     },
     "metadata": {
      "needs_background": "light"
     },
     "output_type": "display_data"
    }
   ],
   "source": [
    "plt.plot(min_temp, color = 'blue', label = 'max_temperature (ºC)')\n",
    "plt.plot(max_temp, color = 'blue', label = 'max_temperature (ºC)')\n",
    "plt.legend()"
   ]
  },
  {
   "cell_type": "markdown",
   "metadata": {},
   "source": [
    "***Explain the error(s) you found:***\n",
    "\n",
    "1- Same colours for both lines\n",
    "2- Legend has the same label for both lines"
   ]
  },
  {
   "cell_type": "code",
   "execution_count": 182,
   "metadata": {},
   "outputs": [
    {
     "data": {
      "image/png": "[encoded data removed]",
      "text/plain": [
       "<Figure size 432x288 with 2 Axes>"
      ]
     },
     "metadata": {
      "needs_background": "light"
     },
     "output_type": "display_data"
    }
   ],
   "source": [
    "#We need to change the weather values to numbers for them to have different colours\n",
    "weather_scatter =weather.replace(['Sunny', 'Cloudy', 'Rainy'],[0,1,2])\n",
    "weather_scatter.plot.scatter(x='Date', y = 'Max_Temperature', c = 'Weather', colormap = 'RdYlGn')\n",
    "\n",
    "#This is for representing the legend\n",
    "sunny_patch = mpatches.Patch(color='red', label='Sunny')\n",
    "cloudy_patch= mpatches.Patch(color='yellow', label='Cloudy')\n",
    "rainy_patch = mpatches.Patch(color='green', label='Rainy')\n",
    "plt.legend(handles=[sunny_patch, cloudy_patch,rainy_patch])\n",
    "plt.show()"
   ]
  },
  {
   "cell_type": "markdown",
   "metadata": {},
   "source": [
    "***Explain the error(s) you found:***\n",
    "\n",
    "Here the colours green and red are not a good combination for colourblind people. There are also yellow points that are very hard to see as it is a very light colour. \n",
    "\n",
    "Note: In the correction of the plot the student should also correct the colours of the legend"
   ]
  },
  {
   "cell_type": "code",
   "execution_count": 223,
   "metadata": {},
   "outputs": [
    {
     "data": {
      "image/png": "[encoded data removed]",
      "text/plain": [
       "<Figure size 432x288 with 2 Axes>"
      ]
     },
     "metadata": {
      "needs_background": "light"
     },
     "output_type": "display_data"
    }
   ],
   "source": [
    "vg_selection = videogames.loc[videogames['NA_Sales'] <=15]\n",
    "vg_selection.plot.scatter(x='NA_Sales', y='EU_Sales',c='Global_Sales',s=vg_selection['Global_Sales'], alpha=0.5, colormap='viridis')\n",
    "plt.ylabel('NA_Sales')\n",
    "plt.xlabel('EU_Sales')\n",
    "plt.show()"
   ]
  },
  {
   "cell_type": "markdown",
   "metadata": {},
   "source": [
    "***Explain the error(s) you found:***\n",
    "\n",
    "The labels for the x and y axis are swapped"
   ]
  },
  {
   "cell_type": "markdown",
   "metadata": {},
   "source": [
    "## Activity 3: Stories with data\n",
    "\n",
    " \n",
    "\n",
    "The year is 2008. Imagine you work at a videogames company. Your company wants to develop a game for one of the Sony platforms, but they need you to decide which of them will be the best option. To do that, you get historical data on how many videogames have been sold per year in each of the Sony platforms since 1980."
   ]
  },
  {
   "cell_type": "markdown",
   "metadata": {},
   "source": [
    "In our data, the platforms we will be looking at are called \"PS\" (Play Station), \"PS2\" (Play Station 2), \"PS3\" (Play Station 3), \"PS4\" (Play Station 4), \"PSP\" (Play Station Portable) and \"PSV\" (Play Station Vita). We will now select these individually."
   ]
  },
  {
   "cell_type": "code",
   "execution_count": 118,
   "metadata": {},
   "outputs": [],
   "source": [
    "#First we take the data until 2007 included\n",
    "videogames_2007 = videogames.loc[videogames['Year'] <= 2007]\n",
    "\n",
    "#Now we select the platforms. \n",
    "ps = videogames_2007.loc[videogames_2007['Platform'] == 'PS']\n",
    "ps2 = videogames_2007.loc[videogames_2007['Platform'] == 'PS2']\n",
    "ps3 = videogames_2007.loc[videogames_2007['Platform'] == 'PS3']\n",
    "ps4 = videogames_2007.loc[videogames_2007['Platform'] == 'PS4']\n",
    "psp = videogames_2007.loc[videogames_2007['Platform'] == 'PSP']\n",
    "psv = videogames_2007.loc[videogames_2007['Platform'] == 'PSV']"
   ]
  },
  {
   "cell_type": "markdown",
   "metadata": {},
   "source": [
    "The data we have extracted tells us how many copies of each specific videogame has been sold each year in specific regions or around the world. We need to know how many videogames have been sold in total eaach year for each platform to decide which is selling the most and choose that. To do this, we will add all the videogames sold globally (the \"Global_Sales\" tag) in a year for each platform."
   ]
  },
  {
   "cell_type": "code",
   "execution_count": 160,
   "metadata": {},
   "outputs": [],
   "source": [
    "years = sorted(videogames.Year.unique())\n",
    "\n",
    "#Calculate the total for ps\n",
    "def total_platform(a):\n",
    "    #Create the DataFrame for our data\n",
    "    total_years = pd.DataFrame(data = [],index = years, columns = ['Global_Sales'])\n",
    "    for year in years:\n",
    "        #Calculate the total in that year\n",
    "        total_year = a.loc[a['Year'] == year, 'Global_Sales'].sum()\n",
    "        #Save the total into our DataFrame\n",
    "        total_years.at[year, 'Global_Sales'] = total_year\n",
    "    return total_years\n",
    "\n",
    "#Read the function defined above and try to find out what the variable 'a' is. \n",
    "#Using the defined function, fill in the following values.\n",
    "total_ps = total_platform(ps)\n",
    "total_ps2 = total_platform(ps2)\n",
    "total_ps3 = total_platform(ps3)\n",
    "total_ps4 = total_platform(ps4)\n",
    "total_psp = total_platform(psp)\n",
    "total_psv = total_platform(psv)"
   ]
  },
  {
   "cell_type": "markdown",
   "metadata": {},
   "source": [
    "***Based on the defined function, can you explain what data we have now for each platform, referring to their rows and columns?***\n",
    "\n",
    "Now we have how many videogames have been sold in total each year in each of the platforms.\n"
   ]
  },
  {
   "cell_type": "markdown",
   "metadata": {},
   "source": [
    "Let us now look at the million of games sold during 2007 for each of the platforms.\n",
    "\n",
    "\n",
    "***Beofre looking at the numbers, intuitively, which platform would you pick based on sales from the previous year? The one with most sales? The one with the least? Something else?***\n",
    "\n",
    "Intuitively it would be the platform with more sales on the previous year, but this could be misleading (see the rest of the exercise)"
   ]
  },
  {
   "cell_type": "code",
   "execution_count": 140,
   "metadata": {},
   "outputs": [
    {
     "name": "stdout",
     "output_type": "stream",
     "text": [
      "PS: 0.0\n",
      "PS2: 76.0\n",
      "PS3: 73.81\n",
      "PS4: 0.0\n",
      "PSP: 47.48\n",
      "PSV: 0.0\n"
     ]
    }
   ],
   "source": [
    "#Fill in the year we are looking at\n",
    "print(\"PS:\", total_ps.loc[2007, 'Global_Sales'])\n",
    "print(\"PS2:\", total_ps2.loc[2007, 'Global_Sales'])\n",
    "print(\"PS3:\", total_ps3.loc[2007, 'Global_Sales'])\n",
    "print(\"PS4:\", total_ps4.loc[2007, 'Global_Sales'])\n",
    "print(\"PSP:\", total_psp.loc[2007, 'Global_Sales'])\n",
    "print(\"PSV:\", total_psv.loc[2007, 'Global_Sales'])\n"
   ]
  },
  {
   "cell_type": "markdown",
   "metadata": {},
   "source": [
    "We now have the millions of copies of videogames sold on each of the Sony platforms in 2007. \n",
    "\n",
    "\n",
    "***Which one is the platform with more sold copies? Is this alone enough to decide on what platform we want to sell our game?***\n",
    "\n",
    "The platform with more sold copies is PS2. This is not enough to decide the platform, as we do not know if this number is increasing or decreasing, which would mean that PS3 might be a better option"
   ]
  },
  {
   "cell_type": "markdown",
   "metadata": {},
   "source": [
    "In this case,we can not look at data from only one year, but how they are evolving. Previously, we saw that PS2 had slightly more sales than PS3 the year before, but that does not mean that they will sell the most in PS2 next year. The way we can determine this is by looking at the trend, if sales are going up or down, through a graph"
   ]
  },
  {
   "cell_type": "code",
   "execution_count": 139,
   "metadata": {},
   "outputs": [
    {
     "data": {
      "text/plain": [
       "[<matplotlib.lines.Line2D at 0x1a245dd4c18>]"
      ]
     },
     "execution_count": 139,
     "metadata": {},
     "output_type": "execute_result"
    },
    {
     "data": {
      "image/png": "[encoded data removed]",
      "text/plain": [
       "<Figure size 432x288 with 1 Axes>"
      ]
     },
     "metadata": {
      "needs_background": "light"
     },
     "output_type": "display_data"
    }
   ],
   "source": [
    "plt.plot(total_ps2.iloc[:28])\n",
    "plt.plot(total_ps3.iloc[:28])"
   ]
  },
  {
   "cell_type": "markdown",
   "metadata": {},
   "source": [
    "***Seeing the trend now, which platform do you think it would be better to release the game on? Why?***\n",
    "\n",
    "The best platform to release the game on would be Play Station 3. This is because the sales of games in that platform are increasing, while the sales in Play Station 2 are decreasing. Following the tendency, during 2008 there should be more sales in the PS3 platform than the PS2. (this can actually be checked looking at the dataset values for 2008)"
   ]
  },
  {
   "cell_type": "markdown",
   "metadata": {},
   "source": [
    "We have only looked at the Sony platforms, but there are other categories in the dataset that could help us decide on which platform we want our game to be released. \n",
    "\n",
    "\n",
    "***Looking through the original dataset, can you name one of these and give a reason why it would be a good characteristic to look at?***\n",
    "\n",
    "One of the characteristics to look at would be the genre of the game (sports, role play, etc). Depending on the genre, it could be sold more in some platforms than others. \n",
    "\n",
    "It could also be one of the sale numbers in specific regions. For example, if the game is only going to be sold in Europe, it is better to look at sales in this area than worlwide."
   ]
  }
 ],
 "metadata": {
  "kernelspec": {
   "display_name": "Python 3",
   "language": "python",
   "name": "python3"
  },
  "language_info": {
   "codemirror_mode": {
    "name": "ipython",
    "version": 3
   },
   "file_extension": ".py",
   "mimetype": "text/x-python",
   "name": "python",
   "nbconvert_exporter": "python",
   "pygments_lexer": "ipython3",
   "version": "3.7.3"
  }
 },
 "nbformat": 4,
 "nbformat_minor": 4
}
