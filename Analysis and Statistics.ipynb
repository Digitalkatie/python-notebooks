{
 "cells": [
  {
   "cell_type": "markdown",
   "metadata": {},
   "source": [
    "# Analysing Data + Statistics"
   ]
  },
  {
   "cell_type": "markdown",
   "metadata": {},
   "source": [
    "In this lesson, we will be analysing a dataset from the World Health Organisation. \n",
    "Looking at the code you will notice some parts are incomplete and have '__' written instead. This means that you need to complete that part of the code. In some other parts, you will need to write your own code.\n",
    "\n",
    "You will also find hyperlinks to documentation on different functions that we will use. It is recommended to look at them to familiarise yourself with what you are doing.\n",
    "\n",
    "There are also questions to be completed. This can be done in one or two sentences."
   ]
  },
  {
   "cell_type": "code",
   "execution_count": null,
   "metadata": {},
   "outputs": [],
   "source": [
    "#First, we need to import the tools we will be using. Links to documentation of the different\n",
    "#tools we will be using can be found on the explanation of each point.\n",
    "import os\n",
    "import pandas as pd\n",
    "import matplotlib.pyplot as plt\n",
    "import numpy as np\n",
    "import seaborn as sns\n",
    "import math"
   ]
  },
  {
   "cell_type": "markdown",
   "metadata": {},
   "source": [
    "### Activity 1: Getting to know our data"
   ]
  },
  {
   "cell_type": "markdown",
   "metadata": {},
   "source": [
    "Now, we need to load the data we will be using.\n",
    "\n",
    "For this we have to get the path to the data we are using, and then read the file. In this case, it is in the datasets\n",
    "folder inside our working directory called 'datasets', and the file name is 'who_countries.csv'. This dataset contains health information on several countries of the world from 2000 to 2015.\n"
   ]
  },
  {
   "cell_type": "code",
   "execution_count": null,
   "metadata": {},
   "outputs": [],
   "source": [
    "#Get the path to the file we will be using. In this case, the dataset is under the datasets folder\n",
    "path = os.path.join(os.getcwd(), 'datasets', 'who_countries.csv')\n",
    "#Load the data into the countries_info variable. This results in a DataFrame object.\n",
    "countries_info = pd.read_csv(path, delimiter = ',')"
   ]
  },
  {
   "cell_type": "markdown",
   "metadata": {},
   "source": [
    "Now we we will look at the dataset that we have loaded."
   ]
  },
  {
   "cell_type": "code",
   "execution_count": null,
   "metadata": {},
   "outputs": [],
   "source": [
    "#Just writing the name of a variable in a cell is enough to print its value\n",
    "countries_info"
   ]
  },
  {
   "cell_type": "markdown",
   "metadata": {},
   "source": [
    "This gives us a rough idea of the data we are working with, but we can get more information with the *describe()* function. "
   ]
  },
  {
   "cell_type": "code",
   "execution_count": null,
   "metadata": {},
   "outputs": [],
   "source": [
    "#Use the DataFrame function describe() to see a summary of the dataset\n",
    "__.describe()"
   ]
  },
  {
   "cell_type": "markdown",
   "metadata": {},
   "source": [
    "\n",
    "\n",
    "***What is the input data used for calculating these measures?***\n",
    "\n",
    "***Do you think this mean can tell us anything? Why? Is this applicable to the other measures?***"
   ]
  },
  {
   "cell_type": "markdown",
   "metadata": {},
   "source": [
    "### Activity 2"
   ]
  },
  {
   "cell_type": "markdown",
   "metadata": {},
   "source": [
    "Now look at the same data, but only taking that from 2015. Comment on the key features you observe."
   ]
  },
  {
   "cell_type": "code",
   "execution_count": null,
   "metadata": {},
   "outputs": [],
   "source": [
    "#The .loc[a] function allows us to get data from a DataFrame that satisfies a condition a\n",
    "info_15 = countries_info.loc[countries_info['Year'] == __]\n",
    "#In this case, we are getting the data that has 2015 as a value on the 'Year' column\n",
    "\n",
    "#Use the describe() function again to see the summary of our selected data\n",
    "__"
   ]
  },
  {
   "cell_type": "markdown",
   "metadata": {},
   "source": [
    "***What does the mean in 'Life expectancy' represent here?***\n",
    "\n",
    "\n",
    "***Looking at the percentiles, how many countries do you estimate have a life expectancy of about 77 years or more?***\n",
    "\n"
   ]
  },
  {
   "cell_type": "markdown",
   "metadata": {},
   "source": [
    "In this activity, we will be working with the GDP and Life expectancy attributes. GDP stands for [Gross Domestic Product](https://www.investopedia.com/terms/g/gdp.asp), and it gives a sense of how rich a country is.\n",
    "\n",
    "In order to know more about these, we will now plot their [distribution](https://seaborn.pydata.org/generated/seaborn.distplot.html)."
   ]
  },
  {
   "cell_type": "code",
   "execution_count": null,
   "metadata": {},
   "outputs": [],
   "source": [
    "#Plotting the distribution for GDP. Write the name of the correct column\n",
    "sns.distplot(info_15['__'], bins = 15)\n"
   ]
  },
  {
   "cell_type": "code",
   "execution_count": null,
   "metadata": {},
   "outputs": [],
   "source": [
    "#Write the necessary code for plotting the distribution of the Life expectancy\n"
   ]
  },
  {
   "cell_type": "markdown",
   "metadata": {},
   "source": [
    "***Seeing the GDP distribution, would you say that most countries have a high GDP? Why?***\n",
    "\n",
    "***Having seen the distribution for both life expectancy and GDP, can you guess from these if there is a correlation?***"
   ]
  },
  {
   "cell_type": "markdown",
   "metadata": {},
   "source": [
    "Now that we know our data a bit better, let's try to find relationships in it. For doing this, we will be looking at the correlation between attributes by plotting pairs of them. \n",
    "\n",
    "Our first step is to take the 2015 data for all the countries' GDP and Life expectancy. Then use the function *plt.plot(x, y, 'o')* to plot the points.\n",
    "\n",
    "Note: The 'o' at the function arguments is for it to draw circular points. Other markers are available, check the [documentation](https://matplotlib.org/api/_as_gen/matplotlib.pyplot.plot.html) for these.\n",
    "\n",
    "If we look at the extracted data, we can see that there are some data points for which we do not have some of the values (they appear as NaN). This means that we need to delete those for our representation.\n",
    "\n",
    "To drop the NaN values, we use the DataFrame function [.dropna(a)](https://pandas.pydata.org/pandas-docs/stable/reference/api/pandas.DataFrame.dropna.html), where a in this case stands for the subset of the names of the columns we want to act on.\n"
   ]
  },
  {
   "cell_type": "code",
   "execution_count": null,
   "metadata": {},
   "outputs": [],
   "source": [
    "#Complete the function with the names of the columns in which we are deleting NaN values\n",
    "clean_info_15 = countries_info.loc[countries_info['Year'] == 2015].dropna(subset=['__', '__'])\n",
    "plt.plot(clean_info_15['GDP'], clean_info_15['__'], 'o')\n",
    "plt.xlabel(\"GDP\")\n",
    "plt.ylabel(\"Life expectancy\")"
   ]
  },
  {
   "cell_type": "markdown",
   "metadata": {},
   "source": [
    "***Remember that each point represents a country. Does the distribution of these match the distribution we plotted earlier?***\n",
    "\n",
    "***From this plot, can you deduce if there is correlation between GDP and life expectancy?***"
   ]
  },
  {
   "cell_type": "markdown",
   "metadata": {},
   "source": [
    "There are many points close to 0. This is because some GDPs are very big compared to others. So, in order to represent the data properly and see if there is in fact a correlation, we need to change the scale of the GDP axis. What scale would be the most appropriate to do this? Write the necessary code for representing the data in the new scale.\n",
    "\n",
    "Look at the documentation for the function [.xscale()](https://matplotlib.org/3.1.1/api/_as_gen/matplotlib.pyplot.xscale.html) to find what argument you need to use for your scale."
   ]
  },
  {
   "cell_type": "code",
   "execution_count": null,
   "metadata": {},
   "outputs": [],
   "source": [
    "plt.plot(clean_info_15['GDP'], clean_info_15['Life expectancy'], 'o')\n",
    "#Fill in the correct argument\n",
    "plt.xscale('__')\n",
    "plt.xlabel(\"GDP\")\n",
    "plt.ylabel(\"Life expectancy\")\n",
    "plt.show()"
   ]
  },
  {
   "cell_type": "markdown",
   "metadata": {},
   "source": [
    "***Do you think there is a correlation here?***"
   ]
  },
  {
   "cell_type": "markdown",
   "metadata": {},
   "source": [
    "Now, we will plot the fitting line. In this case, we will be using the seaborn [regplot()](https://seaborn.pydata.org/generated/seaborn.regplot.html) function, which fits a Machine Learning model known as linear regression and plots the data points and a fitting line."
   ]
  },
  {
   "cell_type": "code",
   "execution_count": null,
   "metadata": {},
   "outputs": [],
   "source": [
    "#You do not need to do anything here, just run the cell\n",
    "sns.regplot([math.log10(val) for val in clean_info_15['GDP']], clean_info_15['Life expectancy'])\n"
   ]
  },
  {
   "cell_type": "markdown",
   "metadata": {},
   "source": [
    "In the code, you will see that we are taking the logarithm of all the GDP values and feeding that into the function, instead of changing the scale, using a [list comprehension](https://docs.python.org/3/tutorial/datastructures.html). This is because we want to fit the line to the transformed values, otherwise the line would be skewed. "
   ]
  },
  {
   "cell_type": "markdown",
   "metadata": {},
   "source": [
    "Finally, we will now calculate the value of the correlation between both attributes. We will use the NumPy function [corrcoef(x,y)](https://realpython.com/numpy-scipy-pandas-correlation-python/). This function returns a 2x2 matrix with the correlation coefficients between the two arguments (i.e. \\[x-x, y-x\\], \\[x-y, y-y\\]).We are interested in the x-y or y-x coefficients.  We will again apply a logarithmic function to our GDP data before passing it into the function."
   ]
  },
  {
   "cell_type": "code",
   "execution_count": null,
   "metadata": {},
   "outputs": [],
   "source": [
    "np.corrcoef([math.log10(val) for val in clean_info_15['__']], clean_info_15['__'])"
   ]
  },
  {
   "cell_type": "markdown",
   "metadata": {},
   "source": [
    "***What correlation coefficient did you obtain? Do you think this is high?***"
   ]
  },
  {
   "cell_type": "markdown",
   "metadata": {},
   "source": [
    "### Activity 3: Mini challenge"
   ]
  },
  {
   "cell_type": "markdown",
   "metadata": {},
   "source": [
    "Keeping in mind what we have done until here, take two other attributes that you think might be related and check if there is a correlation. Remember the following:\n",
    "    \n",
    "    -Delete the empty values where necessary \n",
    "    \n",
    "    -Label all the plots you make\n",
    "    \n",
    "    -Use an appropriate scale when necessary\n",
    "\n",
    "When you have your final result, make sure that you explain why do you think there is or there is not a correlation."
   ]
  },
  {
   "cell_type": "code",
   "execution_count": null,
   "metadata": {},
   "outputs": [],
   "source": [
    "#Write your code here. Remember you can add any cells you need"
   ]
  }
 ],
 "metadata": {
  "kernelspec": {
   "display_name": "Python 3",
   "language": "python",
   "name": "python3"
  },
  "language_info": {
   "codemirror_mode": {
    "name": "ipython",
    "version": 3
   },
   "file_extension": ".py",
   "mimetype": "text/x-python",
   "name": "python",
   "nbconvert_exporter": "python",
   "pygments_lexer": "ipython3",
   "version": "3.7.3"
  }
 },
 "nbformat": 4,
 "nbformat_minor": 4
}
