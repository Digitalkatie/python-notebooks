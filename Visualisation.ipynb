{
 "cells": [
  {
   "cell_type": "markdown",
   "metadata": {},
   "source": [
    "# Visualisation Solutions"
   ]
  },
  {
   "cell_type": "markdown",
   "metadata": {},
   "source": [
    "In this activity we will be working on the visualisation of data. Questions to be answered are in ***bold*** and should be answered in the same box unless specified. In the code, some parts need to be filled. This will be marked with __ or be empty spaces. Note that the code will not work if these are not changed to the correct values, so make sure that you change all of them."
   ]
  },
  {
   "cell_type": "code",
   "execution_count": null,
   "metadata": {},
   "outputs": [],
   "source": [
    "import numpy as np\n",
    "import os\n",
    "import matplotlib.pyplot as plt\n",
    "import matplotlib.patches as mpatches\n",
    "import math\n",
    "import seaborn as sns\n",
    "import pandas as pd\n",
    "from collections import Counter\n",
    "#Make sure the helper_functions.py file is in the same folder as this notebook\n",
    "from helper_functions import get_vgs_proportion\n"
   ]
  },
  {
   "cell_type": "code",
   "execution_count": null,
   "metadata": {},
   "outputs": [],
   "source": [
    "#Get the path to the files we will be using.\n",
    "path_weather = os.path.join(os.getcwd(), 'datasets', 'weather_simple.csv')\n",
    "path_videogames = os.path.join(os.getcwd(), 'datasets', 'vgsales.csv')\n",
    "#Load the data into the countries_info variable. This results in a DataFrame object.\n",
    "weather = pd.read_csv(path_weather, delimiter = ';')\n",
    "videogames = pd.read_csv(path_videogames, delimiter = ',')"
   ]
  },
  {
   "cell_type": "code",
   "execution_count": null,
   "metadata": {},
   "outputs": [],
   "source": [
    "#Looking at the data we will need \n",
    "weather"
   ]
  },
  {
   "cell_type": "code",
   "execution_count": null,
   "metadata": {
    "scrolled": true
   },
   "outputs": [],
   "source": [
    "#Look at the other dataset\n",
    "videogames"
   ]
  },
  {
   "cell_type": "markdown",
   "metadata": {},
   "source": [
    "## Activity 1: Using the right chart\n",
    "\n",
    "Here you are given selections of the two datasets that we have loaded. Your job is to find the right plot to use for each of them and represent them. The following cell contains code that you can copy and paste for representing the data. Remember to substitute the appropriate variable names."
   ]
  },
  {
   "cell_type": "markdown",
   "metadata": {},
   "source": [
    "Code for drawing a pie chart. Copy, paste, and substitute with your own data\n",
    "```\n",
    "data.plot.pie(subplots=True)\n",
    "        ```\n",
    "Code for drawing a line chart. Copy, paste, and substitute with your own data\n",
    "```\n",
    "data.plot.line\n",
    "plt.legend(['_'])\n",
    "```\n",
    "Code for drawing a bar chart. Copy, paste, and substitute with your own data\n",
    "```\n",
    "data.plot.bar()\n",
    "plt.legend(['_'])\n",
    "```\n",
    "Code for stacked 100% area chart\n",
    "```\n",
    "data.plot.area()\n",
    "```"
   ]
  },
  {
   "cell_type": "code",
   "execution_count": null,
   "metadata": {},
   "outputs": [],
   "source": [
    "#Let's get all the data that we will represent now\n",
    "\n",
    "#Number of kind of days (cloudy, sunny, rainy)\n",
    "kind_days = Counter(weather['Weather']) #Counts how many days of each kind there are\n",
    "num_kind_days = pd.DataFrame.from_dict(kind_days, orient='index')\n",
    "\n",
    "#Maximum temperatures\n",
    "max_temp = weather['Max_Temperature']\n",
    "\n",
    "#Minimum temperatures\n",
    "min_temp = weather['Min_Temperature']\n",
    "\n",
    "#Amount of rain\n",
    "rain = weather['Rain(mm)']\n",
    "\n",
    "#Proportion of sold videogames for each Nintendo platform per year\n",
    "#There is some processing of the data to get the necessary dataset. You can look at it\n",
    "#in the helper_functions.py file\n",
    "prop_videogames = get_vgs_proportion() \n"
   ]
  },
  {
   "cell_type": "code",
   "execution_count": null,
   "metadata": {},
   "outputs": [],
   "source": [
    "#Your chart 1"
   ]
  },
  {
   "cell_type": "markdown",
   "metadata": {},
   "source": [
    "***Explain your choice:***\n"
   ]
  },
  {
   "cell_type": "code",
   "execution_count": null,
   "metadata": {},
   "outputs": [],
   "source": [
    "#Your chart 2"
   ]
  },
  {
   "cell_type": "markdown",
   "metadata": {},
   "source": [
    "***Explain your choice:***\n"
   ]
  },
  {
   "cell_type": "code",
   "execution_count": null,
   "metadata": {},
   "outputs": [],
   "source": [
    "#Your chart 3"
   ]
  },
  {
   "cell_type": "markdown",
   "metadata": {},
   "source": [
    "***Explain your choice:***\n"
   ]
  },
  {
   "cell_type": "code",
   "execution_count": null,
   "metadata": {},
   "outputs": [],
   "source": [
    "#Your chart 4"
   ]
  },
  {
   "cell_type": "markdown",
   "metadata": {},
   "source": [
    "***Explain your choice:***\n"
   ]
  },
  {
   "cell_type": "code",
   "execution_count": null,
   "metadata": {},
   "outputs": [],
   "source": [
    "#Your chart 5"
   ]
  },
  {
   "cell_type": "markdown",
   "metadata": {},
   "source": [
    "***Explain your choice:***\n"
   ]
  },
  {
   "cell_type": "markdown",
   "metadata": {},
   "source": [
    "## Activtity 2: Correcting plots"
   ]
  },
  {
   "cell_type": "markdown",
   "metadata": {},
   "source": [
    "Correct the following plots. Mistakes could be axis wrongly labeled, bad colour decision ([here](https://matplotlib.org/3.1.0/tutorials/colors/colormaps.html) you have a link to different colormaps you can use), not the right plot for the data..."
   ]
  },
  {
   "cell_type": "code",
   "execution_count": null,
   "metadata": {},
   "outputs": [],
   "source": [
    "plt.plot(min_temp, color = 'blue', label = 'max_temperature (ºC)')\n",
    "plt.plot(max_temp, color = 'blue', label = 'max_temperature (ºC)')\n",
    "plt.legend()"
   ]
  },
  {
   "cell_type": "markdown",
   "metadata": {},
   "source": [
    "***Explain the error(s) you found:***"
   ]
  },
  {
   "cell_type": "code",
   "execution_count": null,
   "metadata": {},
   "outputs": [],
   "source": [
    "#We need to change the weather values to numbers for them to have different colours\n",
    "weather_scatter =weather.replace(['Sunny', 'Cloudy', 'Rainy'],[0,1,2])\n",
    "weather_scatter.plot.scatter(x='Date', y = 'Max_Temperature', c = 'Weather', colormap = 'RdYlGn')\n",
    "\n",
    "#This is for representing the legend. Each \"patch\" is one of the colour labels\n",
    "sunny_patch = mpatches.Patch(color='red', label='Sunny')\n",
    "cloudy_patch= mpatches.Patch(color='yellow', label='Cloudy')\n",
    "rainy_patch = mpatches.Patch(color='green', label='Rainy')\n",
    "plt.legend(handles=[sunny_patch, cloudy_patch,rainy_patch])\n",
    "plt.show()"
   ]
  },
  {
   "cell_type": "markdown",
   "metadata": {},
   "source": [
    "***Explain the error(s) you found:***\n"
   ]
  },
  {
   "cell_type": "code",
   "execution_count": null,
   "metadata": {},
   "outputs": [],
   "source": [
    "vg_selection = videogames.loc[videogames['NA_Sales'] <=15]\n",
    "vg_selection.plot.scatter(x='NA_Sales', y='EU_Sales',c='Global_Sales',s=vg_selection['Global_Sales'], alpha=0.5, colormap='viridis')\n",
    "plt.ylabel('NA_Sales')\n",
    "plt.xlabel('EU_Sales')\n",
    "plt.show()"
   ]
  },
  {
   "cell_type": "markdown",
   "metadata": {},
   "source": [
    "***Explain the error(s) you found:***\n"
   ]
  },
  {
   "cell_type": "markdown",
   "metadata": {},
   "source": [
    "## Activity 3: Stories with data\n",
    "\n",
    " \n",
    "\n",
    "The year is 2008. Imagine you work at a videogames company. Your company wants to develop a game for one of the Sony platforms, but they need you to decide which of them will be the best option. To do that, you get historical data on how many videogames have been sold per year in each of the Sony platforms since 1980."
   ]
  },
  {
   "cell_type": "markdown",
   "metadata": {},
   "source": [
    "In our data, the platforms we will be looking at are called \"PS\" (Play Station), \"PS2\" (Play Station 2), \"PS3\" (Play Station 3), \"PS4\" (Play Station 4), \"PSP\" (Play Station Portable) and \"PSV\" (Play Station Vita). We will now select these individually."
   ]
  },
  {
   "cell_type": "code",
   "execution_count": null,
   "metadata": {},
   "outputs": [],
   "source": [
    "#First we take the data until 2007 included\n",
    "videogames_2007 = videogames.loc[videogames['Year'] <= __]\n",
    "\n",
    "#Now we select the platforms. \n",
    "ps = videogames_2007.loc[videogames_2007['Platform'] == '__']\n",
    "ps2 = videogames_2007.loc[videogames_2007['Platform'] == '__']\n",
    "ps3 = videogames_2007.loc[videogames_2007['Platform'] == '__']\n",
    "ps4 = videogames_2007.loc[videogames_2007['Platform'] == '__']\n",
    "psp = videogames_2007.loc[videogames_2007['Platform'] == '__']\n",
    "psv = videogames_2007.loc[videogames_2007['Platform'] == '__']"
   ]
  },
  {
   "cell_type": "markdown",
   "metadata": {},
   "source": [
    "The data we have extracted tells us how many copies of each specific videogame has been sold each year in specific regions or around the world. We need to know how many videogames have been sold in total eaach year for each platform to decide which is selling the most and choose that. To do this, we will add all the videogames sold globally (the \"Global_Sales\" tag) in a year for each platform."
   ]
  },
  {
   "cell_type": "code",
   "execution_count": null,
   "metadata": {},
   "outputs": [],
   "source": [
    "years = sorted(videogames.Year.unique())\n",
    "\n",
    "#Function for adding the videogames of each year in a platform\n",
    "def total_platform(a):\n",
    "    #Create the DataFrame for our data\n",
    "    total_years = pd.DataFrame(data = [],index = years, columns = ['Global_Sales'])\n",
    "    for year in years:\n",
    "        #Calculate the total in that year\n",
    "        total_year = a.loc[a['Year'] == year, 'Global_Sales'].sum()\n",
    "        #Save the total into our DataFrame\n",
    "        total_years.at[year, 'Global_Sales'] = total_year\n",
    "    return total_years\n",
    "\n",
    "#Read the function defined above and try to find out what the variable 'a' is. \n",
    "#Using the defined function, fill in the following values.\n",
    "total_ps = __\n",
    "total_ps2 = __\n",
    "total_ps3 = __\n",
    "total_ps4 = __\n",
    "total_psp = __\n",
    "total_psv = __"
   ]
  },
  {
   "cell_type": "markdown",
   "metadata": {},
   "source": [
    "***Based on the defined function, can you explain what data we have now for each platform, referring to their rows and columns?***\n",
    "\n"
   ]
  },
  {
   "cell_type": "markdown",
   "metadata": {},
   "source": [
    "Let us now look at the million of games sold during 2007 for each of the platforms.\n",
    "\n",
    "\n",
    "***Beofre looking at the numbers, intuitively, which platform would you pick based on sales from the previous year? The one with most sales? The one with the least? Something else?***\n"
   ]
  },
  {
   "cell_type": "code",
   "execution_count": null,
   "metadata": {},
   "outputs": [],
   "source": [
    "#Fill in the year we are looking at\n",
    "print(\"PS:\", total_ps.loc[__, 'Global_Sales'])\n",
    "print(\"PS2:\", total_ps2.loc[__, 'Global_Sales'])\n",
    "print(\"PS3:\", total_ps3.loc[__, 'Global_Sales'])\n",
    "print(\"PS4:\", total_ps4.loc[__, 'Global_Sales'])\n",
    "print(\"PSP:\", total_psp.loc[__, 'Global_Sales'])\n",
    "print(\"PSV:\", total_psv.loc[__, 'Global_Sales'])\n"
   ]
  },
  {
   "cell_type": "markdown",
   "metadata": {},
   "source": [
    "We now have the millions of copies of videogames sold on each of the Sony platforms in 2007. \n",
    "\n",
    "\n",
    "***Which one is the platform with more sold copies? Is this alone enough to decide on what platform we want to sell our game?***\n"
   ]
  },
  {
   "cell_type": "markdown",
   "metadata": {},
   "source": [
    "In this case,we can not look at data from only one year, but how they are evolving. Previously, we saw that PS2 had slightly more sales than PS3 the year before, but that does not mean that they will sell the most in PS2 next year. The way we can determine this is by looking at the trend, if sales are going up or down, through a graph"
   ]
  },
  {
   "cell_type": "code",
   "execution_count": null,
   "metadata": {},
   "outputs": [],
   "source": [
    "#Fill in with the necessary data set for each of the lines\n",
    "plt.plot(__.iloc[:28])\n",
    "plt.plot(__.iloc[:28])"
   ]
  },
  {
   "cell_type": "markdown",
   "metadata": {},
   "source": [
    "***Seeing the trend now, which platform do you think it would be better to release the game on? Why?***\n"
   ]
  },
  {
   "cell_type": "markdown",
   "metadata": {},
   "source": [
    "We have only looked at the Sony platforms, but there are other categories in the dataset that could help us decide on which platform we want our game to be released. \n",
    "\n",
    "\n",
    "***Looking through the original dataset, can you name one of these and give a reason why it would be a good characteristic to look at?***\n"
   ]
  }
 ],
 "metadata": {
  "kernelspec": {
   "display_name": "Python 3",
   "language": "python",
   "name": "python3"
  },
  "language_info": {
   "codemirror_mode": {
    "name": "ipython",
    "version": 3
   },
   "file_extension": ".py",
   "mimetype": "text/x-python",
   "name": "python",
   "nbconvert_exporter": "python",
   "pygments_lexer": "ipython3",
   "version": "3.7.3"
  }
 },
 "nbformat": 4,
 "nbformat_minor": 4
}
